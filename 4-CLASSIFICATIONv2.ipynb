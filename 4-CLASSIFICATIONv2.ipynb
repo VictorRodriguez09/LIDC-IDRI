{
 "cells": [
  {
   "cell_type": "markdown",
   "id": "0f7567d7",
   "metadata": {},
   "source": [
    "# Neural Network approach"
   ]
  },
  {
   "cell_type": "markdown",
   "id": "d42cad84",
   "metadata": {},
   "source": [
    "## - Loading the required libraries"
   ]
  },
  {
   "cell_type": "code",
   "execution_count": 1,
   "id": "71bb10ce",
   "metadata": {},
   "outputs": [],
   "source": [
    "## Imports\n",
    "\n",
    "import pandas as pd\n",
    "import numpy as np\n",
    "import tensorflow as tf\n",
    "from tensorflow import keras\n",
    "from sklearn.model_selection import train_test_split\n",
    "from sklearn.preprocessing import StandardScaler\n",
    "from sklearn.metrics import roc_auc_score, confusion_matrix, classification_report\n",
    "from sklearn.preprocessing import label_binarize\n",
    "import matplotlib.pyplot as plt\n",
    "import os\n",
    "from sklearn.model_selection import train_test_split\n",
    "from sklearn.model_selection import GroupKFold\n",
    "from sklearn.preprocessing import LabelEncoder\n",
    "from tensorflow.keras.models import Sequential\n",
    "from tensorflow.keras.layers import Dense, Dropout\n",
    "from tensorflow.keras.optimizers import Adam\n",
    "from tensorflow.keras import layers\n",
    "from tensorflow.keras.models import Sequential\n",
    "from tensorflow.keras.layers import Dense, Dropout\n",
    "from tensorflow.keras.optimizers import Adam\n",
    "from sklearn.linear_model import LogisticRegression\n",
    "from sklearn.metrics import accuracy_score"
   ]
  },
  {
   "cell_type": "markdown",
   "id": "f90a7f14",
   "metadata": {},
   "source": [
    "## -Reading and defining the dataset "
   ]
  },
  {
   "cell_type": "code",
   "execution_count": 2,
   "id": "c7e48349",
   "metadata": {},
   "outputs": [],
   "source": [
    "## Reading data\n",
    "\n",
    "data = pd.read_csv(\"D:/DATASET LIDC-IDRI/processeddata/features.csv\")\n",
    "data = data.dropna()\n",
    "data=data.drop(['diagnostics_Mask-original_CenterOfMass','diagnostics_Mask-original_CenterOfMassIndex','diagnostics_Versions_PyRadiomics','diagnostics_Versions_Numpy','diagnostics_Versions_SimpleITK','diagnostics_Versions_PyWavelet','diagnostics_Versions_Python','diagnostics_Configuration_Settings','diagnostics_Configuration_EnabledImageTypes','diagnostics_Image-original_Hash','diagnostics_Image-original_Dimensionality','diagnostics_Image-original_Spacing','diagnostics_Image-original_Size','diagnostics_Image-original_Mean','diagnostics_Image-original_Minimum','diagnostics_Image-original_Maximum','diagnostics_Mask-original_Hash','diagnostics_Mask-original_Spacing','diagnostics_Mask-original_Size','diagnostics_Mask-original_BoundingBox','diagnostics_Mask-original_VolumeNum','Sid','Unnamed: 0'],axis=1)"
   ]
  },
  {
   "cell_type": "markdown",
   "id": "9195f081",
   "metadata": {},
   "source": [
    "### Instead of deleting the entries of mal=3 or mapping them all to 0 or 1, we had the idea to map the high 3's to 1 and the low 3's to 0. We did that by mapping the data into {1: 0, 2: 0, 4: 1, 5: 1} and sperating the data into the ones labeled as 0 and 1, and the ones labeled as 3. We trained the model on the binary dataset and predicted the dataset with our 3's."
   ]
  },
  {
   "cell_type": "code",
   "execution_count": 3,
   "id": "e57ffdb9",
   "metadata": {},
   "outputs": [],
   "source": [
    "## Separating the data onto 01 and 3\n",
    "\n",
    "df = data\n",
    "df['malignancy_mapped'] = df['Malignancy'].map({1: 0, 2: 0, 4: 1, 5: 1})\n",
    "df01 = df[df['malignancy_mapped'].isin([0, 1])]\n",
    "df3 = df[df['Malignancy'] == 3]"
   ]
  },
  {
   "cell_type": "code",
   "execution_count": 4,
   "id": "ed47ea57",
   "metadata": {},
   "outputs": [],
   "source": [
    "# Separate the features and labels for the 0-1 labeled instances\n",
    "features_01 = df01.drop(['Malignancy', 'malignancy_mapped', 'Pid'], axis=1)\n",
    "labels_01 = df01['malignancy_mapped']\n",
    "\n",
    "# Separate the features for label 3 instances\n",
    "features_3 = df3.drop(['Malignancy', 'malignancy_mapped', 'Pid'], axis=1)\n",
    "\n",
    "# Train a model on 0-1 labeled instances\n",
    "X_train, X_test, y_train, y_test = train_test_split(features_01, labels_01, test_size=0.2, random_state=50)\n",
    "model = LogisticRegression(max_iter=1000)  # You can use any model of your choice\n",
    "model.fit(X_train, y_train)\n",
    "\n",
    "# Predict probabilities for label 3 instances\n",
    "probs = model.predict_proba(features_3)\n",
    "\n",
    "# Threshold to determine the 3+s and the 3-s\n",
    "threshold = 0.4885\n",
    "labels_3_mapped = np.where(probs[:, 1] >= threshold, 1, 0)\n",
    "mapped_labels_3 = pd.Series(labels_3_mapped, index=df3.index)\n",
    "\n",
    "# Combine all the labels\n",
    "final_labels = pd.concat([labels_01, mapped_labels_3], axis=0).sort_index()\n",
    "\n",
    "# Updating the dataset\n",
    "df = df.drop(['malignancy_mapped','Malignancy'],axis=1)\n",
    "df['Malv2'] = final_labels"
   ]
  },
  {
   "cell_type": "code",
   "execution_count": 5,
   "id": "2e2e3148",
   "metadata": {},
   "outputs": [
    {
     "data": {
      "text/plain": [
       "0.0    7186\n",
       "1.0    7162\n",
       "Name: Malv2, dtype: int64"
      ]
     },
     "execution_count": 5,
     "metadata": {},
     "output_type": "execute_result"
    }
   ],
   "source": [
    "df[\"Malv2\"].value_counts()"
   ]
  },
  {
   "cell_type": "markdown",
   "id": "b05dbcad",
   "metadata": {},
   "source": [
    "## -Splitting the data\n",
    "\n",
    "#### Even though our dataset is built around slices, having a slice for every row, we are splitting the data by patients, and not by slices, to avoid having slices from the same patient separated. This way all the slices from a patient are either on the same fraction of the set.\n"
   ]
  },
  {
   "cell_type": "code",
   "execution_count": 6,
   "id": "46c062f3",
   "metadata": {},
   "outputs": [],
   "source": [
    "## Splitting patients into groups\n",
    "\n",
    "all_patients = df['Pid'].unique() #732 (if we remove mal=3)\n",
    "\n",
    "# Spliting patients into train, test and val groups\n",
    "train_patients, test_patients = train_test_split(all_patients, test_size=0.2, random_state=50)\n",
    "\n",
    "# Creating the train, test and val datasets\n",
    "train_data = df[df['Pid'].isin(train_patients)]\n",
    "test_data = df[df['Pid'].isin(test_patients)]"
   ]
  },
  {
   "cell_type": "code",
   "execution_count": 7,
   "id": "da6a1559",
   "metadata": {},
   "outputs": [],
   "source": [
    "## Train Test Split\n",
    "\n",
    "# Creating the train, test and val sets\n",
    "X_train = train_data.drop(['Pid','Malv2'], axis=1)\n",
    "X_test = test_data.drop(['Pid','Malv2'], axis=1)\n",
    "y_train = train_data['Malv2']\n",
    "y_test = test_data['Malv2']\n",
    "\n",
    "# Standard Scaling\n",
    "scaler = StandardScaler()\n",
    "X_train = scaler.fit_transform(X_train)\n",
    "X_test = scaler.transform(X_test)"
   ]
  },
  {
   "cell_type": "markdown",
   "id": "a433cbbb",
   "metadata": {},
   "source": [
    "## -Feature engineering\n",
    "\n",
    "#### We are using the Random Forest algorithm to select the 75 best features"
   ]
  },
  {
   "cell_type": "code",
   "execution_count": 8,
   "id": "66ae68f2",
   "metadata": {},
   "outputs": [],
   "source": [
    "## Feature engineering (Random Forest)\n",
    "\n",
    "from sklearn.ensemble import RandomForestClassifier\n",
    "\n",
    "# Initialize a Random Forest classifier\n",
    "rf_classifier = RandomForestClassifier(n_estimators=100, random_state=50)\n",
    "\n",
    "# Fit the classifier to the data\n",
    "rf_classifier.fit(X_train, y_train)\n",
    "\n",
    "# Get feature importances from the trained Random Forest model\n",
    "feature_importances = rf_classifier.feature_importances_\n",
    "\n",
    "# Sort features based on their importance\n",
    "feature_indices = feature_importances.argsort()[::-1]  # Sort in descending order\n",
    "\n",
    "# Select the top K important features\n",
    "k = 75\n",
    "top_k_features_indices = feature_indices[:k]\n",
    "\n",
    "# Filter your data to keep only the selected features\n",
    "X_train_selected = X_train[:, top_k_features_indices]\n",
    "X_test_selected = X_test[:, top_k_features_indices]"
   ]
  },
  {
   "cell_type": "code",
   "execution_count": 9,
   "id": "57ae20cf",
   "metadata": {},
   "outputs": [],
   "source": [
    "## Apply the feature engineering\n",
    "\n",
    "X_train = X_train_selected\n",
    "X_test = X_test_selected"
   ]
  },
  {
   "cell_type": "markdown",
   "id": "535d52db",
   "metadata": {},
   "source": [
    "## -Neural Network"
   ]
  },
  {
   "cell_type": "code",
   "execution_count": 10,
   "id": "5e97acaf",
   "metadata": {
    "scrolled": true
   },
   "outputs": [
    {
     "name": "stdout",
     "output_type": "stream",
     "text": [
      "Epoch 1/75\n",
      "2865/2865 - 6s - loss: 0.6620 - accuracy: 0.6482 - 6s/epoch - 2ms/step\n",
      "Epoch 2/75\n",
      "2865/2865 - 5s - loss: 0.6210 - accuracy: 0.6812 - 5s/epoch - 2ms/step\n",
      "Epoch 3/75\n",
      "2865/2865 - 5s - loss: 0.6181 - accuracy: 0.6833 - 5s/epoch - 2ms/step\n",
      "Epoch 4/75\n",
      "2865/2865 - 5s - loss: 0.6126 - accuracy: 0.6895 - 5s/epoch - 2ms/step\n",
      "Epoch 5/75\n",
      "2865/2865 - 5s - loss: 0.6131 - accuracy: 0.6853 - 5s/epoch - 2ms/step\n",
      "Epoch 6/75\n",
      "2865/2865 - 5s - loss: 0.6122 - accuracy: 0.6890 - 5s/epoch - 2ms/step\n",
      "Epoch 7/75\n",
      "2865/2865 - 5s - loss: 0.6088 - accuracy: 0.6853 - 5s/epoch - 2ms/step\n",
      "Epoch 8/75\n",
      "2865/2865 - 5s - loss: 0.6105 - accuracy: 0.6880 - 5s/epoch - 2ms/step\n",
      "Epoch 9/75\n",
      "2865/2865 - 5s - loss: 0.6062 - accuracy: 0.6941 - 5s/epoch - 2ms/step\n",
      "Epoch 10/75\n",
      "2865/2865 - 5s - loss: 0.6070 - accuracy: 0.6896 - 5s/epoch - 2ms/step\n",
      "Epoch 11/75\n",
      "2865/2865 - 5s - loss: 0.6103 - accuracy: 0.6949 - 5s/epoch - 2ms/step\n",
      "Epoch 12/75\n",
      "2865/2865 - 5s - loss: 0.6056 - accuracy: 0.6925 - 5s/epoch - 2ms/step\n",
      "Epoch 13/75\n",
      "2865/2865 - 5s - loss: 0.6040 - accuracy: 0.6950 - 5s/epoch - 2ms/step\n",
      "Epoch 14/75\n",
      "2865/2865 - 5s - loss: 0.6044 - accuracy: 0.6903 - 5s/epoch - 2ms/step\n",
      "Epoch 15/75\n",
      "2865/2865 - 5s - loss: 0.6042 - accuracy: 0.6929 - 5s/epoch - 2ms/step\n",
      "Epoch 16/75\n",
      "2865/2865 - 5s - loss: 0.6042 - accuracy: 0.6925 - 5s/epoch - 2ms/step\n",
      "Epoch 17/75\n",
      "2865/2865 - 5s - loss: 0.6039 - accuracy: 0.6903 - 5s/epoch - 2ms/step\n",
      "Epoch 18/75\n",
      "2865/2865 - 5s - loss: 0.5987 - accuracy: 0.6937 - 5s/epoch - 2ms/step\n",
      "Epoch 19/75\n",
      "2865/2865 - 5s - loss: 0.5978 - accuracy: 0.6938 - 5s/epoch - 2ms/step\n",
      "Epoch 20/75\n",
      "2865/2865 - 5s - loss: 0.6020 - accuracy: 0.6965 - 5s/epoch - 2ms/step\n",
      "Epoch 21/75\n",
      "2865/2865 - 5s - loss: 0.5989 - accuracy: 0.6964 - 5s/epoch - 2ms/step\n",
      "Epoch 22/75\n",
      "2865/2865 - 5s - loss: 0.5980 - accuracy: 0.6960 - 5s/epoch - 2ms/step\n",
      "Epoch 23/75\n",
      "2865/2865 - 5s - loss: 0.6001 - accuracy: 0.6956 - 5s/epoch - 2ms/step\n",
      "Epoch 24/75\n",
      "2865/2865 - 5s - loss: 0.5977 - accuracy: 0.6979 - 5s/epoch - 2ms/step\n",
      "Epoch 25/75\n",
      "2865/2865 - 5s - loss: 0.5975 - accuracy: 0.6950 - 5s/epoch - 2ms/step\n",
      "Epoch 26/75\n",
      "2865/2865 - 5s - loss: 0.5953 - accuracy: 0.6916 - 5s/epoch - 2ms/step\n",
      "Epoch 27/75\n",
      "2865/2865 - 5s - loss: 0.5948 - accuracy: 0.6967 - 5s/epoch - 2ms/step\n",
      "Epoch 28/75\n",
      "2865/2865 - 5s - loss: 0.5964 - accuracy: 0.6942 - 5s/epoch - 2ms/step\n",
      "Epoch 29/75\n",
      "2865/2865 - 5s - loss: 0.5934 - accuracy: 0.6974 - 5s/epoch - 2ms/step\n",
      "Epoch 30/75\n",
      "2865/2865 - 5s - loss: 0.5975 - accuracy: 0.6901 - 5s/epoch - 2ms/step\n",
      "Epoch 31/75\n",
      "2865/2865 - 5s - loss: 0.5996 - accuracy: 0.6922 - 5s/epoch - 2ms/step\n",
      "Epoch 32/75\n",
      "2865/2865 - 5s - loss: 0.5937 - accuracy: 0.6971 - 5s/epoch - 2ms/step\n",
      "Epoch 33/75\n",
      "2865/2865 - 5s - loss: 0.5958 - accuracy: 0.6980 - 5s/epoch - 2ms/step\n",
      "Epoch 34/75\n",
      "2865/2865 - 5s - loss: 0.5938 - accuracy: 0.6940 - 5s/epoch - 2ms/step\n",
      "Epoch 35/75\n",
      "2865/2865 - 5s - loss: 0.5933 - accuracy: 0.6991 - 5s/epoch - 2ms/step\n",
      "Epoch 36/75\n",
      "2865/2865 - 5s - loss: 0.5944 - accuracy: 0.6964 - 5s/epoch - 2ms/step\n",
      "Epoch 37/75\n",
      "2865/2865 - 5s - loss: 0.5959 - accuracy: 0.6982 - 5s/epoch - 2ms/step\n",
      "Epoch 38/75\n",
      "2865/2865 - 5s - loss: 0.5920 - accuracy: 0.6965 - 5s/epoch - 2ms/step\n",
      "Epoch 39/75\n",
      "2865/2865 - 5s - loss: 0.5890 - accuracy: 0.6974 - 5s/epoch - 2ms/step\n",
      "Epoch 40/75\n",
      "2865/2865 - 5s - loss: 0.5939 - accuracy: 0.6974 - 5s/epoch - 2ms/step\n",
      "Epoch 41/75\n",
      "2865/2865 - 5s - loss: 0.5921 - accuracy: 0.6959 - 5s/epoch - 2ms/step\n",
      "Epoch 42/75\n",
      "2865/2865 - 5s - loss: 0.5923 - accuracy: 0.6969 - 5s/epoch - 2ms/step\n",
      "Epoch 43/75\n",
      "2865/2865 - 5s - loss: 0.5893 - accuracy: 0.7003 - 5s/epoch - 2ms/step\n",
      "Epoch 44/75\n",
      "2865/2865 - 6s - loss: 0.5925 - accuracy: 0.6956 - 6s/epoch - 2ms/step\n",
      "Epoch 45/75\n",
      "2865/2865 - 5s - loss: 0.5934 - accuracy: 0.7004 - 5s/epoch - 2ms/step\n",
      "Epoch 46/75\n",
      "2865/2865 - 5s - loss: 0.5965 - accuracy: 0.6956 - 5s/epoch - 2ms/step\n",
      "Epoch 47/75\n",
      "2865/2865 - 5s - loss: 0.5943 - accuracy: 0.6948 - 5s/epoch - 2ms/step\n",
      "Epoch 48/75\n",
      "2865/2865 - 5s - loss: 0.5940 - accuracy: 0.6982 - 5s/epoch - 2ms/step\n",
      "Epoch 49/75\n",
      "2865/2865 - 5s - loss: 0.5923 - accuracy: 0.6991 - 5s/epoch - 2ms/step\n",
      "Epoch 50/75\n",
      "2865/2865 - 6s - loss: 0.5878 - accuracy: 0.6986 - 6s/epoch - 2ms/step\n",
      "Epoch 51/75\n",
      "2865/2865 - 9s - loss: 0.5928 - accuracy: 0.6971 - 9s/epoch - 3ms/step\n",
      "Epoch 52/75\n",
      "2865/2865 - 8s - loss: 0.5895 - accuracy: 0.6965 - 8s/epoch - 3ms/step\n",
      "Epoch 53/75\n",
      "2865/2865 - 6s - loss: 0.5904 - accuracy: 0.6965 - 6s/epoch - 2ms/step\n",
      "Epoch 54/75\n",
      "2865/2865 - 6s - loss: 0.5887 - accuracy: 0.6963 - 6s/epoch - 2ms/step\n",
      "Epoch 55/75\n",
      "2865/2865 - 6s - loss: 0.5893 - accuracy: 0.6970 - 6s/epoch - 2ms/step\n",
      "Epoch 56/75\n",
      "2865/2865 - 6s - loss: 0.5893 - accuracy: 0.7020 - 6s/epoch - 2ms/step\n",
      "Epoch 57/75\n",
      "2865/2865 - 6s - loss: 0.5899 - accuracy: 0.6974 - 6s/epoch - 2ms/step\n",
      "Epoch 58/75\n",
      "2865/2865 - 6s - loss: 0.5854 - accuracy: 0.7017 - 6s/epoch - 2ms/step\n",
      "Epoch 59/75\n",
      "2865/2865 - 6s - loss: 0.5901 - accuracy: 0.6994 - 6s/epoch - 2ms/step\n",
      "Epoch 60/75\n",
      "2865/2865 - 7s - loss: 0.5889 - accuracy: 0.6994 - 7s/epoch - 2ms/step\n",
      "Epoch 61/75\n",
      "2865/2865 - 6s - loss: 0.5904 - accuracy: 0.6969 - 6s/epoch - 2ms/step\n",
      "Epoch 62/75\n",
      "2865/2865 - 6s - loss: 0.5881 - accuracy: 0.7004 - 6s/epoch - 2ms/step\n",
      "Epoch 63/75\n",
      "2865/2865 - 6s - loss: 0.5872 - accuracy: 0.6967 - 6s/epoch - 2ms/step\n",
      "Epoch 64/75\n",
      "2865/2865 - 6s - loss: 0.5862 - accuracy: 0.6993 - 6s/epoch - 2ms/step\n",
      "Epoch 65/75\n",
      "2865/2865 - 6s - loss: 0.5845 - accuracy: 0.6980 - 6s/epoch - 2ms/step\n",
      "Epoch 66/75\n",
      "2865/2865 - 6s - loss: 0.5868 - accuracy: 0.7002 - 6s/epoch - 2ms/step\n",
      "Epoch 67/75\n",
      "2865/2865 - 6s - loss: 0.5875 - accuracy: 0.6988 - 6s/epoch - 2ms/step\n",
      "Epoch 68/75\n",
      "2865/2865 - 7s - loss: 0.5856 - accuracy: 0.6993 - 7s/epoch - 2ms/step\n",
      "Epoch 69/75\n",
      "2865/2865 - 6s - loss: 0.5874 - accuracy: 0.6991 - 6s/epoch - 2ms/step\n",
      "Epoch 70/75\n",
      "2865/2865 - 6s - loss: 0.5862 - accuracy: 0.6968 - 6s/epoch - 2ms/step\n",
      "Epoch 71/75\n",
      "2865/2865 - 6s - loss: 0.5893 - accuracy: 0.7002 - 6s/epoch - 2ms/step\n",
      "Epoch 72/75\n",
      "2865/2865 - 6s - loss: 0.5871 - accuracy: 0.7018 - 6s/epoch - 2ms/step\n",
      "Epoch 73/75\n",
      "2865/2865 - 7s - loss: 0.5924 - accuracy: 0.6996 - 7s/epoch - 2ms/step\n",
      "Epoch 74/75\n",
      "2865/2865 - 6s - loss: 0.5877 - accuracy: 0.6995 - 6s/epoch - 2ms/step\n",
      "Epoch 75/75\n",
      "2865/2865 - 6s - loss: 0.5883 - accuracy: 0.6992 - 6s/epoch - 2ms/step\n"
     ]
    }
   ],
   "source": [
    "## NN aproach\n",
    "\n",
    "# Define the model\n",
    "model = Sequential([\n",
    "    Dense(64, activation='relu', input_shape=(X_train.shape[1],)),\n",
    "    Dropout(0.5),\n",
    "    Dense(32, activation='relu'),\n",
    "    Dropout(0.5),\n",
    "    Dense(1, activation='sigmoid')\n",
    "])\n",
    "\n",
    "# Compile the model\n",
    "model.compile(optimizer=Adam(learning_rate=0.001), loss='binary_crossentropy', metrics=['accuracy'])\n",
    "\n",
    "# Train the model\n",
    "history = model.fit(X_train, y_train, verbose = 2, epochs=75, batch_size=4)"
   ]
  },
  {
   "cell_type": "code",
   "execution_count": 11,
   "id": "515983ee",
   "metadata": {},
   "outputs": [
    {
     "name": "stdout",
     "output_type": "stream",
     "text": [
      "91/91 [==============================] - 0s 2ms/step - loss: 0.5970 - accuracy: 0.7063\n",
      "Test Accuracy: 0.71\n"
     ]
    }
   ],
   "source": [
    "## NN Results\n",
    "\n",
    "# Evaluate the model on the test set\n",
    "test_loss, test_accuracy = model.evaluate(X_test, y_test)\n",
    "print(f'Test Accuracy: {test_accuracy:.2f}')"
   ]
  },
  {
   "cell_type": "code",
   "execution_count": 12,
   "id": "e84318a1",
   "metadata": {},
   "outputs": [
    {
     "name": "stdout",
     "output_type": "stream",
     "text": [
      "Patient in train set\n"
     ]
    }
   ],
   "source": [
    "## Find patient\n",
    "\n",
    "pid = \"LIDC-IDRI-0101\"\n",
    "\n",
    "if pid in train_patients:\n",
    "    print(\"Patient in train set\")\n",
    "else: print(\"Patient in test set\")"
   ]
  },
  {
   "cell_type": "code",
   "execution_count": null,
   "id": "be94da8b",
   "metadata": {},
   "outputs": [],
   "source": []
  }
 ],
 "metadata": {
  "kernelspec": {
   "display_name": "Python 3 (ipykernel)",
   "language": "python",
   "name": "python3"
  },
  "language_info": {
   "codemirror_mode": {
    "name": "ipython",
    "version": 3
   },
   "file_extension": ".py",
   "mimetype": "text/x-python",
   "name": "python",
   "nbconvert_exporter": "python",
   "pygments_lexer": "ipython3",
   "version": "3.9.18"
  }
 },
 "nbformat": 4,
 "nbformat_minor": 5
}
