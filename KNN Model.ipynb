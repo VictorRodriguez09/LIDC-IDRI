{
 "cells": [
  {
   "cell_type": "code",
   "execution_count": 1,
   "id": "083954f6",
   "metadata": {},
   "outputs": [
    {
     "data": {
      "text/plain": [
       "'\\nThis is part of a project that we developed last year for Aprendizagem Computacional 1.\\nIn this notebook we try a diferent aproach by using a Knn model.\\nWe use the Naive version as well as a Weighted version (the one we found that performs the best for this dataset).\\nThis aproach is not good. The accuracy is lower compared to NN and it takes a lot of time to process.\\n'"
      ]
     },
     "execution_count": 1,
     "metadata": {},
     "output_type": "execute_result"
    }
   ],
   "source": [
    "'''\n",
    "This is part of a project that we developed last year for Aprendizagem Computacional 1.\n",
    "In this notebook we try a diferent aproach by using a Knn model.\n",
    "We use the Naive version as well as a Weighted version (the one we found that performs the best for this dataset).\n",
    "This aproach is not good. The accuracy is lower compared to NN and it takes a lot of time to process.\n",
    "'''"
   ]
  },
  {
   "cell_type": "code",
   "execution_count": 2,
   "id": "0d503254",
   "metadata": {},
   "outputs": [],
   "source": [
    "## Imports\n",
    "\n",
    "import numpy as np\n",
    "import pandas as pd\n",
    "import matplotlib.pyplot as plt\n",
    "import seaborn as sns\n",
    "from sklearn import datasets\n",
    "from sklearn.model_selection import train_test_split\n",
    "from sklearn.preprocessing import StandardScaler\n",
    "from sklearn.preprocessing import MinMaxScaler\n",
    "from sklearn.datasets import fetch_openml\n",
    "from sklearn.preprocessing import LabelEncoder\n",
    "from sklearn.ensemble import RandomForestRegressor\n",
    "from sklearn.metrics import confusion_matrix\n",
    "from sklearn.metrics import ConfusionMatrixDisplay\n",
    "from sklearn.metrics import roc_curve, auc\n",
    "import scipy.stats as sstats"
   ]
  },
  {
   "cell_type": "code",
   "execution_count": 3,
   "id": "0da3bdf7",
   "metadata": {},
   "outputs": [],
   "source": [
    "## Distance metric\n",
    "\n",
    "def euclidean(point, data):\n",
    "    return np.sqrt(np.sum((point - data)**2, axis=1))\n",
    "\n",
    "#Weighting based on attributes inportance\n",
    "def weightedEuclidean(point, data):\n",
    "    weighted_point = point * importances\n",
    "    weighted_data = data * importances\n",
    "    return np.sqrt(np.sum((weighted_point - weighted_data)**2, axis=1))"
   ]
  },
  {
   "cell_type": "code",
   "execution_count": 4,
   "id": "47409ad5",
   "metadata": {},
   "outputs": [],
   "source": [
    "## Naive knn\n",
    "\n",
    "class knnNaive:\n",
    "    def __init__(self, k=5, dist_metric=euclidean):\n",
    "        self.k = k\n",
    "        self.dist_metric = dist_metric   \n",
    "        \n",
    "    def most_common(self, lst):\n",
    "        return max(set(lst), key=lst.count)\n",
    "    \n",
    "    def fit(self, X_train, y_train):\n",
    "        self.X_train = X_train\n",
    "        self.y_train = y_train    \n",
    "    \n",
    "    def predict(self, X_test):\n",
    "        neighbors = []\n",
    "        for x in X_test:\n",
    "            distances = self.dist_metric(x, self.X_train)\n",
    "            y_sorted = [y for _, y in sorted(zip(distances, self.y_train))]\n",
    "            neighbors.append(y_sorted[:self.k])       \n",
    "        return list(map(self.most_common, neighbors))    \n",
    "    \n",
    "    def evaluate(self, X_test, y_test):\n",
    "        y_pred = self.predict(X_test)\n",
    "        accuracy = sum(y_pred == y_test) / len(y_test)\n",
    "        return accuracy, y_pred"
   ]
  },
  {
   "cell_type": "code",
   "execution_count": 5,
   "id": "573297d9",
   "metadata": {},
   "outputs": [],
   "source": [
    "## knn Weighted (1/dist)\n",
    "\n",
    "class knnWeighted:\n",
    "    def __init__(self, k=5, dist_metric=euclidean, normalized=False):\n",
    "        self.k = k\n",
    "        self.dist_metric = dist_metric\n",
    "        self.normalized = normalized\n",
    "    \n",
    "    def fit(self, X_train, y_train):\n",
    "        self.X_train = X_train\n",
    "        self.y_train = y_train    \n",
    "        \n",
    "    def find_res(self, data):\n",
    "        result = {}\n",
    "        for dist, cls in data:\n",
    "            if cls not in result:\n",
    "                result[cls] = {'weighted_dist': 0.0, 'num_elems': 0}\n",
    "            weidist=1.0/(dist+0.000001)\n",
    "            if weidist>1000: wwidist=1000\n",
    "            result[cls]['weighted_dist'] += weidist\n",
    "            result[cls]['num_elems'] += 1\n",
    "        \n",
    "        #Normalize the values to the avg\n",
    "        if (self.normalized == True):\n",
    "            total_num_elems = sum([stats['num_elems'] for stats in result.values()])\n",
    "            num_classes = len(result)\n",
    "            avg_num_elems = total_num_elems / num_classes\n",
    "\n",
    "            for cls, stats in result.items():\n",
    "                mult=avg_num_elems/stats['num_elems']\n",
    "                stats['weighted_dist']=stats['weighted_dist']*mult\n",
    "        \n",
    "        res = None\n",
    "        max_weighted_dist = -float('inf')\n",
    "        for cls, stats in result.items():\n",
    "            if stats['weighted_dist'] > max_weighted_dist:\n",
    "                res = cls\n",
    "                max_weighted_dist = stats['weighted_dist']\n",
    "        return res\n",
    "    \n",
    "    def predict(self, X_test):\n",
    "        res = []\n",
    "        for x in X_test:\n",
    "            distances = self.dist_metric(x, self.X_train)\n",
    "            kn = sorted(zip(distances, self.y_train))[:self.k]\n",
    "            res.append(self.find_res(kn))\n",
    "        return res   \n",
    "    \n",
    "    def evaluate(self, X_test, y_test):\n",
    "        y_pred = self.predict(X_test)\n",
    "        accuracy = sum(y_pred == y_test) / len(y_test)\n",
    "        return accuracy, y_pred"
   ]
  },
  {
   "cell_type": "code",
   "execution_count": 6,
   "id": "6df118c3",
   "metadata": {},
   "outputs": [],
   "source": [
    "## Reading data\n",
    "\n",
    "data = pd.read_csv(\"D:/DATASET LIDC-IDRI/processeddata/features.csv\")\n",
    "data = data.dropna()\n",
    "data=data.drop(['diagnostics_Mask-original_CenterOfMass','diagnostics_Mask-original_CenterOfMassIndex','diagnostics_Versions_PyRadiomics','diagnostics_Versions_Numpy','diagnostics_Versions_SimpleITK','diagnostics_Versions_PyWavelet','diagnostics_Versions_Python','diagnostics_Configuration_Settings','diagnostics_Configuration_EnabledImageTypes','diagnostics_Image-original_Hash','diagnostics_Image-original_Dimensionality','diagnostics_Image-original_Spacing','diagnostics_Image-original_Size','diagnostics_Image-original_Mean','diagnostics_Image-original_Minimum','diagnostics_Image-original_Maximum','diagnostics_Mask-original_Hash','diagnostics_Mask-original_Spacing','diagnostics_Mask-original_Size','diagnostics_Mask-original_BoundingBox','diagnostics_Mask-original_VolumeNum','Sid','Unnamed: 0'],axis=1)\n",
    "\n",
    "# Erasing entries with mal==3\n",
    "i = data[data['Malignancy'] == 3].index\n",
    "data = data.drop(i)\n",
    "data = data.reset_index(drop=True)"
   ]
  },
  {
   "cell_type": "code",
   "execution_count": 7,
   "id": "41003feb",
   "metadata": {},
   "outputs": [],
   "source": [
    "## Splitting patients into groups\n",
    "\n",
    "all_patients = data['Pid'].unique() #732\n",
    "\n",
    "# Spliting patients into train, test and val groups\n",
    "train_patients, test_patients = train_test_split(all_patients, test_size=0.3, random_state=42)\n",
    "\n",
    "# Creating the train, test and val datasets\n",
    "train_data = data[data['Pid'].isin(train_patients)]\n",
    "test_data = data[data['Pid'].isin(test_patients)]\n",
    "\n",
    "# Creating the train, test and val sets\n",
    "X_train = train_data.drop(['Pid','Malignancy'], axis=1)\n",
    "X_test = test_data.drop(['Pid','Malignancy'], axis=1)\n",
    "y_train = train_data['Malignancy']\n",
    "y_test = test_data['Malignancy']\n",
    "\n",
    "# Mapping malignancy levels to binary labels\n",
    "y_train = y_train.map({1: 0, 2: 0, 4: 1, 5: 1})\n",
    "y_test = y_test.map({1: 0, 2: 0, 4: 1, 5: 1})\n",
    "\n",
    "# Standard Scaling\n",
    "scaler = StandardScaler()\n",
    "X_train = scaler.fit_transform(X_train)\n",
    "X_test = scaler.fit_transform(X_test)"
   ]
  },
  {
   "cell_type": "code",
   "execution_count": 8,
   "id": "83fd8445",
   "metadata": {},
   "outputs": [],
   "source": [
    "## Get important attributes\n",
    "rf = RandomForestRegressor()\n",
    "rf.fit(X_train, y_train)\n",
    "importances = rf.feature_importances_"
   ]
  },
  {
   "cell_type": "code",
   "execution_count": 9,
   "id": "18feecba",
   "metadata": {},
   "outputs": [
    {
     "data": {
      "image/png": "[encoded data removed]",
      "text/plain": [
       "<Figure size 640x480 with 1 Axes>"
      ]
     },
     "metadata": {},
     "output_type": "display_data"
    },
    {
     "name": "stdout",
     "output_type": "stream",
     "text": [
      "knnN=0.658178, knnW=0.653560\n"
     ]
    }
   ],
   "source": [
    "## Test the models\n",
    "\n",
    "# Store accuracies\n",
    "accuracies_naive = []\n",
    "accuracies_wei = []\n",
    "\n",
    "# Test knn models across varying ks\n",
    "ks = range(10,101,10)\n",
    "for k in ks:\n",
    "    \n",
    "    #Naive knn\n",
    "    knnN = knnNaive(k=k)\n",
    "    knnN.fit(X_train, y_train)\n",
    "    accuracy, y_pred = knnN.evaluate(X_test, y_test)\n",
    "    accuracies_naive.append(accuracy)\n",
    "    \n",
    "    #knn Weighted (1/dist)\n",
    "    knnW = knnWeighted(k=k)\n",
    "    knnW.fit(X_train, y_train)\n",
    "    accuracy, y_pred = knnW.evaluate(X_test, y_test)\n",
    "    accuracies_wei.append(accuracy)\n",
    "\n",
    "# Plot the results\n",
    "fig, ax = plt.subplots()\n",
    "ax.plot(ks, accuracies_naive, color=\"blue\", label=\"Naive\")\n",
    "ax.plot(ks, accuracies_wei, label=\"Weighted\")\n",
    "\n",
    "ax.set(xlabel=\"k\",ylabel=\"Accuracy\",title=\"Features DS\")\n",
    "ax.legend()\n",
    "plt.show()\n",
    "    \n",
    "# Print the avg accuracies\n",
    "avg_naive = sum(accuracies_naive) / len(accuracies_naive)\n",
    "avg_wei = sum(accuracies_wei) / len(accuracies_wei)\n",
    "    \n",
    "print(f\"knnN={avg_naive:.6f}, knnW={avg_wei:.6f}\")"
   ]
  }
 ],
 "metadata": {
  "kernelspec": {
   "display_name": "Python 3 (ipykernel)",
   "language": "python",
   "name": "python3"
  },
  "language_info": {
   "codemirror_mode": {
    "name": "ipython",
    "version": 3
   },
   "file_extension": ".py",
   "mimetype": "text/x-python",
   "name": "python",
   "nbconvert_exporter": "python",
   "pygments_lexer": "ipython3",
   "version": "3.9.18"
  }
 },
 "nbformat": 4,
 "nbformat_minor": 5
}
